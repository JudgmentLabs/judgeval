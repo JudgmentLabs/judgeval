{
 "cells": [
  {
   "cell_type": "markdown",
   "metadata": {},
   "source": [
    "### Introduction\n"
   ]
  },
  {
   "cell_type": "markdown",
   "metadata": {},
   "source": [
    "In the notebook below, we demonstrate how using mixture of agents (MoA) can significantly improve the quality of responses by harnessing the power of multple LLMs. The code below goes in order of using just a single agent/LLM, then using a mixture of agents/LLMs, then using multiple iterations of a mixture of agents/LLMs. The basic architecture we follow is to prompt each LLM, then use an aggregator LLM combined with a final prompt to get the final output.\n",
    "\n",
    "![alt text](8c88157-image.png \"Title\")"
   ]
  },
  {
   "cell_type": "markdown",
   "metadata": {},
   "source": [
    "In this notebook, we will build a travel itinerary generator. This emulates the common dilemma of having to figure out flights, hotel, food, attraction planning, etc. delegates these to a mixture of agents to solve. The main request will be split into these subtasks, and a mixture of agents will tackle each task, the results will be aggregated to get refined answers for each task. Then the results of each task will be aggregated to build the final itinerary. "
   ]
  },
  {
   "cell_type": "markdown",
   "metadata": {},
   "source": [
    "Throughout each step, we will apply Judgment's scoring and tracing models to evaluate how good the outputs are"
   ]
  },
  {
   "cell_type": "markdown",
   "metadata": {},
   "source": [
    "### Setup"
   ]
  },
  {
   "cell_type": "code",
   "execution_count": 1,
   "metadata": {},
   "outputs": [
    {
     "name": "stderr",
     "output_type": "stream",
     "text": [
      "Langfuse client is disabled since no public_key was provided as a parameter or environment variable 'LANGFUSE_PUBLIC_KEY'. See our docs: https://langfuse.com/docs/sdk/python/low-level-sdk#initialize-client\n"
     ]
    }
   ],
   "source": [
    "import asyncio\n",
    "import os\n",
    "import together\n",
    "import json\n",
    "from together import AsyncTogether, Together\n",
    "from judgeval.common.tracer import Tracer, wrap\n",
    "from judgeval.scorers import AnswerRelevancyScorer, SummarizationScorer, FaithfulnessScorer\n",
    "from tavily import TavilyClient\n",
    "\n"
   ]
  },
  {
   "cell_type": "code",
   "execution_count": null,
   "metadata": {},
   "outputs": [],
   "source": [
    "client = wrap(Together(api_key=os.environ.get(\"TOGETHER_API_KEY\")))\n",
    "async_client = AsyncTogether(api_key=os.environ.get(\"TOGETHER_API_KEY\"))\n",
    "judgment = Tracer(project_name=\"travel_agent\")\n"
   ]
  },
  {
   "cell_type": "code",
   "execution_count": 12,
   "metadata": {},
   "outputs": [
    {
     "name": "stdout",
     "output_type": "stream",
     "text": [
      "in traced create\n",
      "response\n",
      "id='91ab7db53e6724f3' object=<ObjectType.ChatCompletion: 'chat.completion'> created=1741029625 model='meta-llama/Llama-3.3-70B-Instruct-Turbo' choices=[ChatCompletionChoicesData(index=0, logprobs=None, seed=2723265465984095700, finish_reason=<FinishReason.StopSequence: 'stop'>, message=ChatCompletionMessage(role=<MessageRole.ASSISTANT: 'assistant'>, content='{\\n  \"Find flights and hotels for the trip\": \"Book flights from the user\\'s preferred airport to Spain from February 20 to March 1 and find available hotels in the desired location for the entire duration of the trip, considering factors such as budget, location, and user reviews\",\\n  \"Find the best food spots for breakfast, lunch, and dinner\": \"Research top-rated restaurants and cafes in Spain, providing recommendations for breakfast, lunch, and dinner options, including traditional Spanish cuisine and local specialties, and considering factors such as price range, dietary restrictions, and user reviews\",\\n  \"Find the best attractions and things to do\": \"Create a list of must-visit attractions and activities in Spain, including cultural landmarks, historical sites, and popular events, and provide a daily schedule of things to do from February 20 to March 1, taking into account the user\\'s interests and travel style\"\\n}', tool_calls=[]))] prompt=[] usage=UsageData(prompt_tokens=223, completion_tokens=184, total_tokens=407)\n"
     ]
    },
    {
     "data": {
      "text/html": [
       "<pre style=\"white-space:pre;overflow-x:auto;line-height:normal;font-family:Menlo,'DejaVu Sans Mono',consolas,'Courier New',monospace\">\n",
       "🔍 You can view your trace data here: \n",
       "<span style=\"color: #6a00ff; text-decoration-color: #6a00ff; text-decoration: underline\">https://app.judgmentlabs.ai/app/trace?trace_id=1780f1c2-9395-4e8e-9947-fa2c2811caf4</span>\n",
       "\n",
       "</pre>\n"
      ],
      "text/plain": [
       "\n",
       "🔍 You can view your trace data here: \n",
       "\u001b[4;38;2;106;0;255mhttps://app.judgmentlabs.ai/app/trace?\u001b[0m\u001b[4;38;2;106;0;255mtrace_id\u001b[0m\u001b[4;38;2;106;0;255m=\u001b[0m\u001b[4;38;2;106;0;255m1780f1c2\u001b[0m\u001b[4;38;2;106;0;255m-9395-4e8e-9947-fa2c2811caf4\u001b[0m\n",
       "\n"
      ]
     },
     "metadata": {},
     "output_type": "display_data"
    }
   ],
   "source": [
    "user_prompt = \"Make me an itinerary to Spain for one week from Feb 20 to March 1\"\n",
    "\n",
    "system_prompt = \"\"\"\n",
    "You are an AI assistant that breaks down user requests into specific subtasks for different specialized agents.\n",
    "For each task description provided, create a clear, detailed prompt that the specialized agent can work with.\n",
    "Each prompt should be self-contained with all necessary information from the original request.\n",
    "Do not add any explanations or commentary - only output the JSON object.\n",
    "\"\"\"\n",
    "\n",
    "tasks = [\n",
    "        \"Find flights and hotels for the trip\",\n",
    "        \"Find the best food spots for breakfast, lunch, and dinner\",\n",
    "        \"Find the best attractions and things to do\"\n",
    "    ]\n",
    "\n",
    "user_message = f\"\"\"\n",
    "Original user request: \"{user_prompt}\"\n",
    "\n",
    "Break this down into separate prompts for the following specialized agents:\n",
    "{', '.join(tasks)}\n",
    "\n",
    "Return the result as a JSON string where the keys are the task descriptions that I provided and the values are the specialized and more refined prompts that you came up with to solve the task. Dont include any ```json tags, just return the JSON that has simple key-value pairs.\n",
    "\"\"\"\n",
    "\n",
    "@judgment.observe(span_type=\"tool\", overwrite=True)\n",
    "def get_task_breakdown():\n",
    "    response = client.chat.completions.create(\n",
    "        model=\"meta-llama/Llama-3.3-70B-Instruct-Turbo\", \n",
    "        messages=[\n",
    "            {\"role\": \"system\", \"content\": system_prompt},\n",
    "            {\"role\": \"user\", \"content\": user_message}\n",
    "        ],\n",
    "        stream=False,\n",
    "    )\n",
    "\n",
    "    \n",
    "    # Get the response content which should include the task breakdown\n",
    "    return response.choices[0].message.content\n",
    "\n",
    "@judgment.observe(span_type=\"tool\", overwrite=True)\n",
    "def main():\n",
    "    breakdown = get_task_breakdown()\n",
    "\n",
    "    judgment.get_current_trace().async_evaluate(\n",
    "        scorers=[AnswerRelevancyScorer(threshold=0.5)],\n",
    "        input=user_message,\n",
    "        actual_output=breakdown,\n",
    "        model=\"gpt-4\",\n",
    "    )\n",
    "    \n",
    "    breakdown = json.loads(breakdown)\n",
    "    return breakdown\n",
    "\n",
    "#parse it as json and show prettify json\n",
    "breakdown = main()"
   ]
  },
  {
   "cell_type": "code",
   "execution_count": 15,
   "metadata": {},
   "outputs": [],
   "source": [
    "def search_tavily(query):\n",
    "    \"\"\"Fetch travel data using Tavily API.\"\"\"\n",
    "    API_KEY = os.getenv(\"TAVILY_API_KEY\")\n",
    "    client = TavilyClient(api_key=API_KEY)\n",
    "    results = client.search(query, num_results=3)\n",
    "    return results"
   ]
  },
  {
   "cell_type": "code",
   "execution_count": 16,
   "metadata": {},
   "outputs": [
    {
     "name": "stdout",
     "output_type": "stream",
     "text": [
      "{\n",
      "    \"Find flights and hotels for the trip\": \"Book flights from the user's preferred airport to Spain from February 20 to March 1 and find available hotels in the desired location for the entire duration of the trip, considering factors such as budget, location, and user reviews\",\n",
      "    \"Find the best food spots for breakfast, lunch, and dinner\": \"Research top-rated restaurants and cafes in Spain, providing recommendations for breakfast, lunch, and dinner options, including traditional Spanish cuisine and local specialties, and considering factors such as price range, dietary restrictions, and user reviews\",\n",
      "    \"Find the best attractions and things to do\": \"Create a list of must-visit attractions and activities in Spain, including cultural landmarks, historical sites, and popular events, and provide a daily schedule of things to do from February 20 to March 1, taking into account the user's interests and travel style\"\n",
      "}\n",
      "Working on task: Find flights and hotels for the trip\n",
      "in traced create\n",
      "response\n",
      "id='91ab7ee43cfc24f3' object=<ObjectType.ChatCompletion: 'chat.completion'> created=1741029673 model='mistralai/Mixtral-8x22B-Instruct-v0.1' choices=[ChatCompletionChoicesData(index=0, logprobs=None, seed=9601480503050170000, finish_reason=<FinishReason.StopSequence: 'stop'>, message=ChatCompletionMessage(role=<MessageRole.ASSISTANT: 'assistant'>, content=\" To find the best flights and hotels for your trip to Spain from February 20 to March 1, I recommend visiting websites like FlightsFinder.com, easyJet.com, and Skyscanner.com to compare prices and find the cheapest flights. For hotels, consider factors such as budget, location, and user reviews, and use popular hotel booking websites like Booking.com, Expedia, and Hotels.com to find available options.\\n\\nHere are some tips for finding the best deals:\\n\\n1. Budget: Set a price range for your flight and hotel stay.\\n2. Location: Choose a hotel in a convenient location, such as near the city center or airport.\\n3. User Reviews: Read reviews from other travelers to ensure the hotel meets your standards.\\n4. Cancellation Policy: Make sure to read the hotel's cancellation policy before booking.\\n5. Book Early: The availability and prices of flights and hotels may change frequently, so it's recommended to book as early as possible to secure the best deal.\\n\\nBy following these tips, you should be able to find the best flights and hotels for your trip to Spain. Please let me know if you have any further questions or if there's anything else I can help you with!\", tool_calls=[]))] prompt=[] usage=UsageData(prompt_tokens=1771, completion_tokens=272, total_tokens=2043)\n"
     ]
    },
    {
     "name": "stderr",
     "output_type": "stream",
     "text": [
      "/Users/sathviknallamalli/opt/anaconda3/envs/nbalive/lib/python3.12/site-packages/pydantic/main.py:390: UserWarning: Pydantic serializer warnings:\n",
      "  Expected `enum` but got `str` with value `'answer_relevancy'` - serialized value may not be as expected\n",
      "  return self.__pydantic_serializer__.to_python(\n"
     ]
    },
    {
     "data": {
      "text/html": [
       "<pre style=\"white-space:pre;overflow-x:auto;line-height:normal;font-family:Menlo,'DejaVu Sans Mono',consolas,'Courier New',monospace\">\n",
       "🔍 You can view your trace data here: \n",
       "<span style=\"color: #6a00ff; text-decoration-color: #6a00ff; text-decoration: underline\">https://app.judgmentlabs.ai/app/trace?trace_id=1cef1131-6f33-4cac-b91f-72718f90dc65</span>\n",
       "\n",
       "</pre>\n"
      ],
      "text/plain": [
       "\n",
       "🔍 You can view your trace data here: \n",
       "\u001b[4;38;2;106;0;255mhttps://app.judgmentlabs.ai/app/trace?\u001b[0m\u001b[4;38;2;106;0;255mtrace_id\u001b[0m\u001b[4;38;2;106;0;255m=\u001b[0m\u001b[4;38;2;106;0;255m1cef1131\u001b[0m\u001b[4;38;2;106;0;255m-6f33-4cac-b91f-72718f90dc65\u001b[0m\n",
       "\n"
      ]
     },
     "metadata": {},
     "output_type": "display_data"
    },
    {
     "name": "stdout",
     "output_type": "stream",
     "text": [
      "Working on task: Find the best food spots for breakfast, lunch, and dinner\n",
      "in traced create\n",
      "response\n",
      "id='91ab7f3c4b9724f3' object=<ObjectType.ChatCompletion: 'chat.completion'> created=1741029687 model='mistralai/Mixtral-8x22B-Instruct-v0.1' choices=[ChatCompletionChoicesData(index=0, logprobs=None, seed=7300190049374206000, finish_reason=<FinishReason.StopSequence: 'stop'>, message=ChatCompletionMessage(role=<MessageRole.ASSISTANT: 'assistant'>, content=\" After analyzing the provided responses, here are some top-rated restaurants and cafes in Spain for breakfast, lunch, and dinner options, considering factors such as price range, dietary restrictions, and user reviews:\\n\\n1. Mugaritz (San Sebastian) - Known for its seasonal tasting menu of 14 dishes showcasing the best local ingredients and creativity of chef Álvaro Garrido, Mugaritz is one of the best-rated restaurants in Spain. Price range: High. Dietary restrictions: Vegetarian options available. User reviews: Excellent.\\n2. Desborre (Madrid) - Chef Lucía Grávalos offers personal project dishes in a charming space, serving daily traditional recipes from the La Rioja region. Price range: Moderate. Dietary restrictions: Vegetarian options available. User reviews: Excellent.\\n3. El Celler de Can Roca (Girona) - A three-Michelin-starred restaurant run by the Roca brothers, offering creative and innovative Catalan cuisine with a tasting menu. Price range: Very high. Dietary restrictions: Vegetarian options available. User reviews: Excellent.\\n4. Tickets (Barcelona) - This tapas bar offers a fun and playful dining experience with creative dishes and excellent service. Price range: High. Dietary restrictions: Vegetarian options available. User reviews: Excellent.\\n5. Quique Dacosta (Alicante) - This three-Michelin-starred restaurant offers a culinary experience that combines traditional Spanish cuisine with modern techniques. Price range: Very high. Dietary restrictions: Vegetarian options available. User reviews: Excellent.\\n6. El Club Allard (Madrid) - This Michelin-starred restaurant offers a tasting menu that changes regularly and focuses on using the best local ingredients. Price range: High. Dietary restrictions: Vegetarian options available. User reviews: Excellent.\\n7. Botín (Madrid) - Known as the oldest restaurant in the world, Botín offers traditional Castilian cuisine, including roast suckling pig and lamb. Price range: Moderate. Dietary restrictions: Limited vegetarian options. User reviews: Excellent.\\n8. Casa Lucio (Madrid) - Famous for its huevos rotos (broken eggs) and other traditional Spanish dishes, Casa Lucio is a must-visit for breakfast lovers. Price range: Moderate. Dietary restrictions: Limited vegetarian options. User reviews: Excellent.\\n\\nWhen considering dietary restrictions, it is important to note that many Spanish dishes are based on meat, seafood, and dairy products. However, there are also many vegetarian and vegan options available, especially in larger cities. It is always best to call ahead or check the restaurant's website for menu details and to inform the restaurant of any dietary restrictions.\\n\\nI hope these recommendations help you plan your dining experiences in Spain!\", tool_calls=[]))] prompt=[] usage=UsageData(prompt_tokens=2339, completion_tokens=647, total_tokens=2986)\n"
     ]
    },
    {
     "data": {
      "text/html": [
       "<pre style=\"white-space:pre;overflow-x:auto;line-height:normal;font-family:Menlo,'DejaVu Sans Mono',consolas,'Courier New',monospace\">\n",
       "🔍 You can view your trace data here: \n",
       "<span style=\"color: #6a00ff; text-decoration-color: #6a00ff; text-decoration: underline\">https://app.judgmentlabs.ai/app/trace?trace_id=e0f2aba7-5b82-455d-9dd5-f1f31b0edadc</span>\n",
       "\n",
       "</pre>\n"
      ],
      "text/plain": [
       "\n",
       "🔍 You can view your trace data here: \n",
       "\u001b[4;38;2;106;0;255mhttps://app.judgmentlabs.ai/app/trace?\u001b[0m\u001b[4;38;2;106;0;255mtrace_id\u001b[0m\u001b[4;38;2;106;0;255m=\u001b[0m\u001b[4;38;2;106;0;255me0f2aba7\u001b[0m\u001b[4;38;2;106;0;255m-5b82-455d-9dd5-f1f31b0edadc\u001b[0m\n",
       "\n"
      ]
     },
     "metadata": {},
     "output_type": "display_data"
    },
    {
     "name": "stdout",
     "output_type": "stream",
     "text": [
      "Working on task: Find the best attractions and things to do\n",
      "in traced create\n",
      "response\n",
      "id='91ab7fb018cb24f3' object=<ObjectType.ChatCompletion: 'chat.completion'> created=1741029706 model='mistralai/Mixtral-8x22B-Instruct-v0.1' choices=[ChatCompletionChoicesData(index=0, logprobs=None, seed=3510985803642738700, finish_reason=<FinishReason.StopSequence: 'stop'>, message=ChatCompletionMessage(role=<MessageRole.ASSISTANT: 'assistant'>, content=\" Based on the provided information, here is a synthesized response for a must-visit list and a daily schedule for Spain from February 20 to March 1, 2025:\\n\\n### Must-Visit Attractions and Activities\\n1. **Basílica de la Sagrada Familia** - A stunning architectural masterpiece by Antoni Gaudí in Barcelona.\\n2. **The Alhambra** - A Moorish palace and fortress in Granada with breathtaking gardens and architecture.\\n3. **Nature and Wildlife Tours** - Explore Spain's natural beauty with guided tours.\\n4. **Cultural Tours** - Dive into Spain's rich history and culture with local experts.\\n5. **Cádiz Cathedral** - A beautiful cathedral known as the Holy Cross Over the Waters, in the charming city of Cádiz.\\n6. **Oviedo** - Experience the vibrant atmosphere of San Juan de Dios Square and the serenity of Genovés Park.\\n\\n### Daily Schedule: February 20 to March 1, 2025\\n\\n#### Week 1: Barcelona\\n- **Day 1 (Feb 20):** Arrival in Barcelona, check-in, and rest.\\n- **Day 2 (Feb 21):** Visit the Basílica de la Sagrada Familia and explore the Park Güell.\\n- **Day 3 (Feb 22):** Walk through the Gothic Quarter and visit the Barcelona Cathedral.\\n- **Day 4 (Feb 23):** Day trip to Montserrat Monastery and the mountain.\\n- **Day 5 (Feb 24):** Enjoy the beach and local cuisine, perhaps a flamenco show in the evening.\\n\\n#### Week 2: Granada\\n- **Day 6 (Feb 25):** Travel to Granada, check-in, and rest.\\n- **Day 7 (Feb 26):** Full day at the Alhambra, including the Alcazaba and the Generalife Gardens.\\n- **Day 8 (Feb 27):** Explore the Albaycin neighborhood and enjoy a panoramic view of the Alhambra.\\n- **Day 9 (Feb 28):** Visit the Cathedral of Granada and the Royal Chapel.\\n- **Day 10 (March 1):** Nature and wildlife tour in the Sierra Nevada.\\n\\n#### Week 3: Cádiz and Oviedo\\n- **Day 11 (March 2):** Travel to Cádiz, check-in, and rest.\\n- **Day 12 (March 3):** Visit the Cádiz Cathedral and explore the city's charming streets and beaches.\\n- **Day 13 (March 4):** Enjoy a cultural tour of Cádiz and visit the San Juan de Dios Square and Genovés Park.\\n- **Day 14 (March 5):** Travel to Oviedo, check-in, and rest.\\n- **Day 15 (March 6):** Explore Oviedo's historic center and cultural landmarks.\\n- **Day 16 (March 7):** Enjoy a farewell dinner in Oviedo and prepare for departure.\\n\\nThis itinerary offers a well-rounded experience of Spain, including its famous landmarks, cultural activities, and natural beauty.\", tool_calls=[]))] prompt=[] usage=UsageData(prompt_tokens=2465, completion_tokens=791, total_tokens=3256)\n"
     ]
    },
    {
     "data": {
      "text/html": [
       "<pre style=\"white-space:pre;overflow-x:auto;line-height:normal;font-family:Menlo,'DejaVu Sans Mono',consolas,'Courier New',monospace\">\n",
       "🔍 You can view your trace data here: \n",
       "<span style=\"color: #6a00ff; text-decoration-color: #6a00ff; text-decoration: underline\">https://app.judgmentlabs.ai/app/trace?trace_id=87cc408a-0e69-424d-bca4-0c3a2d58ff65</span>\n",
       "\n",
       "</pre>\n"
      ],
      "text/plain": [
       "\n",
       "🔍 You can view your trace data here: \n",
       "\u001b[4;38;2;106;0;255mhttps://app.judgmentlabs.ai/app/trace?\u001b[0m\u001b[4;38;2;106;0;255mtrace_id\u001b[0m\u001b[4;38;2;106;0;255m=\u001b[0m\u001b[4;38;2;106;0;255m87cc408a\u001b[0m\u001b[4;38;2;106;0;255m-0e69-424d-bca4-0c3a2d58ff65\u001b[0m\n",
       "\n"
      ]
     },
     "metadata": {},
     "output_type": "display_data"
    }
   ],
   "source": [
    "print(json.dumps(breakdown, indent=4))\n",
    "\n",
    "task_outputs = {}\n",
    "for task in breakdown:\n",
    "    print(f\"Working on task: {task}\")\n",
    "    task_prompt = breakdown[task]\n",
    "    reference_models = [\n",
    "        \"Qwen/Qwen2-72B-Instruct\",\n",
    "        \"meta-llama/Llama-3.3-70B-Instruct-Turbo\",\n",
    "        \"mistralai/Mixtral-8x22B-Instruct-v0.1\",\n",
    "        \"databricks/dbrx-instruct\",\n",
    "    ]\n",
    "\n",
    "    context = search_tavily(task_prompt)\n",
    "\n",
    "    aggregator_model = \"mistralai/Mixtral-8x22B-Instruct-v0.1\"\n",
    "    aggreagator_system_prompt = \"\"\"You have been provided with a set of responses from various open-source models to the latest user query. Your task is to synthesize these responses into a single, high-quality response. It is crucial to critically evaluate the information provided in these responses, recognizing that some of it may be biased or incorrect. Your response should not simply replicate the given answers but should offer a refined, accurate, and comprehensive reply to the instruction. Ensure your response is well-structured, coherent, and adheres to the highest standards of accuracy and reliability.\n",
    "\n",
    "    Responses from models:\"\"\"\n",
    "\n",
    "    async def run_llm(model):\n",
    "        \"\"\"Run a single LLM call with a reference model.\"\"\"\n",
    "        response = await async_client.chat.completions.create(\n",
    "            model=model,\n",
    "            messages=[{\"role\": \"user\", \"content\": f\"{task_prompt}. Here is some additional context to help you: {context}\"}],\n",
    "            temperature=0.7,\n",
    "            max_tokens=512,\n",
    "        )\n",
    "        return response.choices[0].message.content\n",
    "    \n",
    "    @judgment.observe(span_type=\"tool\", overwrite=True)\n",
    "    async def run_aggregator():\n",
    "        results = await asyncio.gather(*[run_llm(model) for model in reference_models])\n",
    "\n",
    "        finalStream = client.chat.completions.create(\n",
    "            model=aggregator_model,\n",
    "            messages=[\n",
    "                {\"role\": \"system\", \"content\": aggreagator_system_prompt},\n",
    "                {\"role\": \"user\", \"content\": \",\".join(str(element) for element in results)},\n",
    "            ],\n",
    "        )\n",
    "\n",
    "        judgment.get_current_trace().async_evaluate(\n",
    "            scorers=[AnswerRelevancyScorer(threshold=0.5)],\n",
    "            input=task_prompt,\n",
    "            actual_output=finalStream.choices[0].message.content,\n",
    "            model=\"gpt-4\",\n",
    "        )\n",
    "        return finalStream.choices[0].message.content\n",
    "\n",
    "    taskOutput = await run_aggregator()\n",
    "    # print(taskOutput)\n",
    "    task_outputs[task] = taskOutput\n"
   ]
  },
  {
   "cell_type": "code",
   "execution_count": 17,
   "metadata": {},
   "outputs": [
    {
     "name": "stdout",
     "output_type": "stream",
     "text": [
      "in traced create\n",
      "response\n",
      "id='91ab867d4ed2ce5c' object=<ObjectType.ChatCompletion: 'chat.completion'> created=1741029985 model='meta-llama/Llama-3.3-70B-Instruct-Turbo' choices=[ChatCompletionChoicesData(index=0, logprobs=None, seed=5635809096046488000, finish_reason=<FinishReason.StopSequence: 'stop'>, message=ChatCompletionMessage(role=<MessageRole.ASSISTANT: 'assistant'>, content=\"**Introduction to Spain Trip**\\nFrom February 20 to March 1, embark on a journey through the vibrant country of Spain, exploring its rich history, stunning architecture, and delectable cuisine. This one-week itinerary is carefully crafted to provide a mix of cultural experiences, breathtaking landscapes, and delicious food, ensuring an unforgettable adventure.\\n\\n**Day 1 (February 20): Arrival in Barcelona**\\nArrive in Barcelona, the capital of Catalonia, and check-in to your hotel. Spend the day resting and getting accustomed to your surroundings. In the evening, head to **Casa Lucio** for a traditional Spanish dinner, famous for its huevos rotos (broken eggs). Book your flights and hotels in advance using websites like FlightsFinder.com, easyJet.com, and Skyscanner.com for the best deals.\\n\\n**Day 2 (February 21): Barcelona**\\nStart the day with a visit to the iconic **Basílica de la Sagrada Familia**, a stunning architectural masterpiece by Antoni Gaudí. Afterward, explore the **Park Güell**, another famous landmark designed by Gaudí. For lunch, head to **Tickets**, a tapas bar offering a fun and playful dining experience with creative dishes. In the evening, enjoy a flamenco show and local cuisine.\\n\\n**Day 3 (February 22): Barcelona**\\nWalk through the historic **Gothic Quarter** and visit the **Barcelona Cathedral**. For breakfast, try **Desborre**, a charming cafe serving traditional recipes from the La Rioja region. In the afternoon, visit **Mugaritz**, a renowned restaurant known for its seasonal tasting menu, for a unique culinary experience.\\n\\n**Day 4 (February 23): Montserrat**\\nTake a day trip to the **Montserrat Monastery** and the mountain, exploring the stunning natural beauty of the region. Return to Barcelona in the evening and enjoy dinner at **El Club Allard**, a Michelin-starred restaurant offering a tasting menu with a focus on local ingredients.\\n\\n**Day 5 (February 24): Barcelona**\\nSpend the day relaxing on **Barceloneta Beach** and enjoying the local seafood. In the evening, head to **Botín**, the oldest restaurant in the world, for a traditional Castilian dinner.\\n\\n**Day 6 (February 25): Travel to Granada**\\nTravel to Granada, a city in the southern region of Andalusia, and check-in to your hotel. Spend the day resting and exploring the city's charming streets.\\n\\n**Day 7 (February 26): Granada**\\nVisit the breathtaking **Alhambra**, a Moorish palace and fortress, and explore the **Alcazaba** and **Generalife Gardens**. For lunch, try local cuisine at a traditional tavern. In the evening, enjoy a panoramic view of the Alhambra from the **Albaycin neighborhood**.\\n\\n**Day 8 (February 27): Granada**\\nExplore the **Cathedral of Granada** and the **Royal Chapel**, learning about the city's rich history and cultural significance. For dinner, head to **Quique Dacosta**, a three-Michelin-starred restaurant offering a culinary experience that combines traditional Spanish cuisine with modern techniques.\\n\\n**Day 9 (February 28): Granada**\\nSpend the day exploring the **Sierra Nevada** mountains, enjoying a nature and wildlife tour. Return to Granada in the evening and enjoy a farewell dinner at a local restaurant.\\n\\n**Day 10 (March 1): Departure**\\nSpend the morning shopping for souvenirs or visiting any last-minute attractions. Depart for the airport and head back home, bringing back memories of an unforgettable trip to Spain.\\n\\n**Conclusion**\\nThis comprehensive itinerary provides a well-rounded experience of Spain, including its famous landmarks, cultural activities, and natural beauty. With a mix of stunning architecture, delicious cuisine, and breathtaking landscapes, this trip is sure to be an unforgettable adventure. Remember to book your flights and hotels in advance, and don't hesitate to reach out if you have any further questions or need more recommendations. ¡Buen viaje! (Have a good trip!)\", tool_calls=[]))] prompt=[] usage=UsageData(prompt_tokens=1857, completion_tokens=851, total_tokens=2708)\n"
     ]
    },
    {
     "name": "stderr",
     "output_type": "stream",
     "text": [
      "/Users/sathviknallamalli/opt/anaconda3/envs/nbalive/lib/python3.12/site-packages/pydantic/main.py:390: UserWarning: Pydantic serializer warnings:\n",
      "  Expected `enum` but got `str` with value `'faithfulness'` - serialized value may not be as expected\n",
      "  return self.__pydantic_serializer__.to_python(\n"
     ]
    },
    {
     "data": {
      "text/html": [
       "<pre style=\"white-space:pre;overflow-x:auto;line-height:normal;font-family:Menlo,'DejaVu Sans Mono',consolas,'Courier New',monospace\">\n",
       "🔍 You can view your trace data here: \n",
       "<span style=\"color: #6a00ff; text-decoration-color: #6a00ff; text-decoration: underline\">https://app.judgmentlabs.ai/app/trace?trace_id=ecfde1a4-677b-46e5-b9a5-9ece46eb8377</span>\n",
       "\n",
       "</pre>\n"
      ],
      "text/plain": [
       "\n",
       "🔍 You can view your trace data here: \n",
       "\u001b[4;38;2;106;0;255mhttps://app.judgmentlabs.ai/app/trace?\u001b[0m\u001b[4;38;2;106;0;255mtrace_id\u001b[0m\u001b[4;38;2;106;0;255m=\u001b[0m\u001b[4;38;2;106;0;255mecfde1a4\u001b[0m\u001b[4;38;2;106;0;255m-677b-46e5-b9a5-9ece46eb8377\u001b[0m\n",
       "\n"
      ]
     },
     "metadata": {},
     "output_type": "display_data"
    },
    {
     "name": "stdout",
     "output_type": "stream",
     "text": [
      "**Introduction to Spain Trip**\n",
      "From February 20 to March 1, embark on a journey through the vibrant country of Spain, exploring its rich history, stunning architecture, and delectable cuisine. This one-week itinerary is carefully crafted to provide a mix of cultural experiences, breathtaking landscapes, and delicious food, ensuring an unforgettable adventure.\n",
      "\n",
      "**Day 1 (February 20): Arrival in Barcelona**\n",
      "Arrive in Barcelona, the capital of Catalonia, and check-in to your hotel. Spend the day resting and getting accustomed to your surroundings. In the evening, head to **Casa Lucio** for a traditional Spanish dinner, famous for its huevos rotos (broken eggs). Book your flights and hotels in advance using websites like FlightsFinder.com, easyJet.com, and Skyscanner.com for the best deals.\n",
      "\n",
      "**Day 2 (February 21): Barcelona**\n",
      "Start the day with a visit to the iconic **Basílica de la Sagrada Familia**, a stunning architectural masterpiece by Antoni Gaudí. Afterward, explore the **Park Güell**, another famous landmark designed by Gaudí. For lunch, head to **Tickets**, a tapas bar offering a fun and playful dining experience with creative dishes. In the evening, enjoy a flamenco show and local cuisine.\n",
      "\n",
      "**Day 3 (February 22): Barcelona**\n",
      "Walk through the historic **Gothic Quarter** and visit the **Barcelona Cathedral**. For breakfast, try **Desborre**, a charming cafe serving traditional recipes from the La Rioja region. In the afternoon, visit **Mugaritz**, a renowned restaurant known for its seasonal tasting menu, for a unique culinary experience.\n",
      "\n",
      "**Day 4 (February 23): Montserrat**\n",
      "Take a day trip to the **Montserrat Monastery** and the mountain, exploring the stunning natural beauty of the region. Return to Barcelona in the evening and enjoy dinner at **El Club Allard**, a Michelin-starred restaurant offering a tasting menu with a focus on local ingredients.\n",
      "\n",
      "**Day 5 (February 24): Barcelona**\n",
      "Spend the day relaxing on **Barceloneta Beach** and enjoying the local seafood. In the evening, head to **Botín**, the oldest restaurant in the world, for a traditional Castilian dinner.\n",
      "\n",
      "**Day 6 (February 25): Travel to Granada**\n",
      "Travel to Granada, a city in the southern region of Andalusia, and check-in to your hotel. Spend the day resting and exploring the city's charming streets.\n",
      "\n",
      "**Day 7 (February 26): Granada**\n",
      "Visit the breathtaking **Alhambra**, a Moorish palace and fortress, and explore the **Alcazaba** and **Generalife Gardens**. For lunch, try local cuisine at a traditional tavern. In the evening, enjoy a panoramic view of the Alhambra from the **Albaycin neighborhood**.\n",
      "\n",
      "**Day 8 (February 27): Granada**\n",
      "Explore the **Cathedral of Granada** and the **Royal Chapel**, learning about the city's rich history and cultural significance. For dinner, head to **Quique Dacosta**, a three-Michelin-starred restaurant offering a culinary experience that combines traditional Spanish cuisine with modern techniques.\n",
      "\n",
      "**Day 9 (February 28): Granada**\n",
      "Spend the day exploring the **Sierra Nevada** mountains, enjoying a nature and wildlife tour. Return to Granada in the evening and enjoy a farewell dinner at a local restaurant.\n",
      "\n",
      "**Day 10 (March 1): Departure**\n",
      "Spend the morning shopping for souvenirs or visiting any last-minute attractions. Depart for the airport and head back home, bringing back memories of an unforgettable trip to Spain.\n",
      "\n",
      "**Conclusion**\n",
      "This comprehensive itinerary provides a well-rounded experience of Spain, including its famous landmarks, cultural activities, and natural beauty. With a mix of stunning architecture, delicious cuisine, and breathtaking landscapes, this trip is sure to be an unforgettable adventure. Remember to book your flights and hotels in advance, and don't hesitate to reach out if you have any further questions or need more recommendations. ¡Buen viaje! (Have a good trip!)\n"
     ]
    }
   ],
   "source": [
    "system_prompt = \"\"\"\n",
    "You are an expert travel planner who creates cohesive, well-structured itineraries.\n",
    "Your task is to create a final, comprehensive response that combines specialized information\n",
    "from different agents into a single, flowing itinerary that addresses the user's original request.\n",
    "\n",
    "The final response should:\n",
    "1. Start with a brief introduction to the trip\n",
    "2. Organize information in a logical, chronological structure (day by day)\n",
    "3. Seamlessly integrate travel logistics, accommodations, meals, and activities\n",
    "4. Ensure there are no scheduling conflicts or logistical impossibilities\n",
    "5. Add transitions between sections to create a natural flow\n",
    "6. End with a brief conclusion\n",
    "\n",
    "Format the itinerary professionally, with clear headings, and make it easy to follow.\n",
    "\"\"\"\n",
    "\n",
    "user_message = f\"\"\"\n",
    "Original user request: \"{user_prompt}\"\n",
    "\n",
    "Specialized agent responses:\n",
    "\n",
    "{json.dumps(task_outputs, indent=2)}\n",
    "\n",
    "Please create a cohesive, well-structured final response that combines all this information\n",
    "into a comprehensive itinerary. Organize it in a logical way (day by day) and ensure the whole\n",
    "itinerary flows naturally and makes logistical sense.\n",
    "\"\"\"\n",
    "\n",
    "@judgment.observe(span_type=\"tool\", overwrite=True)\n",
    "def compile_final_itinerary():\n",
    "    response = client.chat.completions.create(\n",
    "        # model=\"gpt-4\", \n",
    "        model=\"meta-llama/Llama-3.3-70B-Instruct-Turbo\",\n",
    "        messages=[\n",
    "            {\"role\": \"system\", \"content\": system_prompt},\n",
    "            {\"role\": \"user\", \"content\": user_message}\n",
    "        ]\n",
    "    )\n",
    "\n",
    "\n",
    "    judgment.get_current_trace().async_evaluate(\n",
    "        scorers=[FaithfulnessScorer(threshold=0.5)],\n",
    "        input=user_prompt,\n",
    "        actual_output=response.choices[0].message.content,\n",
    "        retrieval_context=task_outputs.values(),\n",
    "        model=\"gpt-4\",\n",
    "    )\n",
    "\n",
    "\n",
    "    return response.choices[0].message.content\n",
    "\n",
    "final_itinerary = compile_final_itinerary()\n",
    "print(final_itinerary)"
   ]
  },
  {
   "cell_type": "code",
   "execution_count": null,
   "metadata": {},
   "outputs": [],
   "source": []
  }
 ],
 "metadata": {
  "kernelspec": {
   "display_name": "nbalive",
   "language": "python",
   "name": "python3"
  },
  "language_info": {
   "codemirror_mode": {
    "name": "ipython",
    "version": 3
   },
   "file_extension": ".py",
   "mimetype": "text/x-python",
   "name": "python",
   "nbconvert_exporter": "python",
   "pygments_lexer": "ipython3",
   "version": "3.12.7"
  }
 },
 "nbformat": 4,
 "nbformat_minor": 2
}
